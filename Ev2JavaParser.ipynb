{
  "cells": [
    {
      "cell_type": "markdown",
      "metadata": {},
      "source": []
    },
    {
      "cell_type": "markdown",
      "metadata": {
        "id": "XyPXNqwzBMwu"
      },
      "source": [
        "#Setup for the syntax tree"
      ]
    },
    {
      "cell_type": "code",
      "execution_count": 42,
      "metadata": {
        "colab": {
          "base_uri": "https://localhost:8080/"
        },
        "id": "isodqJ1x-zeG",
        "outputId": "d8815488-2822-4dcd-88ff-4c64b93467b7"
      },
      "outputs": [
        {
          "name": "stderr",
          "output_type": "stream",
          "text": [
            "[nltk_data] Downloading package punkt to /home/felix/nltk_data...\n",
            "[nltk_data]   Package punkt is already up-to-date!\n",
            "[nltk_data] Downloading package words to /home/felix/nltk_data...\n",
            "[nltk_data]   Package words is already up-to-date!\n",
            "[nltk_data] Downloading package treebank to /home/felix/nltk_data...\n",
            "[nltk_data]   Package treebank is already up-to-date!\n"
          ]
        }
      ],
      "source": [
        "import nltk\n",
        "from nltk import Nonterminal, nonterminals, Production, CFG\n",
        "\n",
        "nltk.download('punkt')\n",
        "nltk.download('words')\n",
        "nltk.download('treebank')\n",
        "\n",
        "from typing import NamedTuple\n",
        "import re"
      ]
    },
    {
      "cell_type": "markdown",
      "metadata": {
        "id": "k3H-SYwGBS-9"
      },
      "source": [
        "# Usage example"
      ]
    },
    {
      "cell_type": "markdown",
      "metadata": {
        "id": "wBzGUJXEKUqs"
      },
      "source": [
        "At least 13 productions"
      ]
    },
    {
      "cell_type": "markdown",
      "metadata": {
        "id": "EkxVKJB2BWFD"
      },
      "source": [
        "# Setup for Java"
      ]
    },
    {
      "cell_type": "markdown",
      "metadata": {
        "id": "Jh7qfeMHUxl_"
      },
      "source": [
        "Regex tokenizer"
      ]
    },
    {
      "cell_type": "code",
      "execution_count": 43,
      "metadata": {
        "id": "7rG8ByItUziR"
      },
      "outputs": [],
      "source": [
        "class JavaToken(NamedTuple):\n",
        "  type: str\n",
        "  value: str\n",
        "  line: int\n",
        "  col: int\n",
        "\n",
        "def tokenize(code):\n",
        "  reserved_words = {\n",
        "      \"NUMTYPE\" : {\"int\" : 1, \"double\" : 2, \"double\" :3, \"short\" : 4, \"float\" :5},\n",
        "      \"TYPES\": { \"enum\" :1, \"char\" :2 , \"String\" : 3, \"boolean\" :4},\n",
        "      \"KEYWORDS\": {\"public\", \"static\", \"void\", \"main\", \"abstract\", \"continue\", \"for\", \"new\", \"switch\",\"assert\" , \"default\", \"package\", \"synchronized\", \"do\", \"goto\", \"private\", \"this\",\"break\" ,  \"implements\", \"throw\", \"byte\", \"import\", \"throws\",\"case\" ,  \"instanceof\", \"return\", \"transient\",\"catch\" , \"extends\",  \"try\", \"final\", \"interface\", \"static\",\"class\", \"finally\",  \"strictfp\", \"volatile\",\"const\",  \"native\", \"super\", \"while\",\"_\"}\n",
        "  }\n",
        "\n",
        "  token_specification = [\n",
        "        ('NOT',   r'\\!'),  \n",
        "        ('PIPE',   r'\\|'),  \n",
        "        ('AMPERSAND',   r'\\&'),  \n",
        "        ('TRUE',   r'true'),  \n",
        "        ('FALSE',   r'false'),  \n",
        "        ('POW',   r'\\^'),  \n",
        "        ('DIV',   r'\\/'),  \n",
        "        ('MULT',   r'\\*'),  \n",
        "        ('MINUS',   r'\\-'),  \n",
        "        ('PLUS',   r'\\+'),  \n",
        "        ('QUOT',   r'\\\"'),  \n",
        "        ('DOT',   r'\\.'),  # Dot\n",
        "        ('L_BRKT',   r'\\['),  # Left bracket\n",
        "        ('R_BRKT',   r'\\]'),  # Right bracket\n",
        "        ('L_PAR',   r'\\('),  # Left parenthesis\n",
        "        ('R_PAR',   r'\\)'),  # Right parenthesis\n",
        "        ('L_CUR',   r'\\{'),  # Left curly\n",
        "        ('R_CUR',   r'\\}'),  # Right curly\n",
        "        ('NUMBER',   r'\\d+(\\.\\d*)?'),  # Number\n",
        "        ('ASSIGN',   r'='),            # Assignment operator\n",
        "        ('LESS',     r'[\\<]'),       # Comparison operators\n",
        "        ('MORE',     r'[\\>]'),       # Comparison operators\n",
        "        ('END',      r';'),            # Statement terminator\n",
        "        ('ID',       r'\\$*[\\$_a-zA-Z]+[\\$_a-zA-Z\\d]*\\$*'),    # Identifiers\n",
        "        ('SKIP',     r'\\s+'),    # Skip over spaces, tabs and nl\n",
        "        ('MISMATCH', r'.'),            # Any other character\n",
        "    ]\n",
        "  tok_regex = '|'.join('(?P<%s>%s)' % pair for pair in token_specification)\n",
        "  line_num = 1\n",
        "  line_start = 0\n",
        "  for mo in re.finditer(tok_regex, code):\n",
        "        kind = mo.lastgroup\n",
        "        value = mo.group()\n",
        "        column = mo.start() - line_start\n",
        "        if kind == 'NUMBER':\n",
        "          if '.' in value:\n",
        "            value = float(value)\n",
        "          else:\n",
        "            value = int(value)\n",
        "        elif value in reserved_words['NUMTYPE']:\n",
        "          kind = 'NUMTYPE'\n",
        "        elif value in reserved_words['KEYWORDS']:\n",
        "            kind = value\n",
        "        elif value in reserved_words['TYPES']:\n",
        "            kind = value\n",
        "        elif kind == 'ID' and value == 'Main':\n",
        "          kind = 'Main'\n",
        "        elif kind == 'ID' and value == 'main':\n",
        "          kind = 'main'\n",
        "        elif kind == 'NEWLINE':\n",
        "            line_start = mo.end()\n",
        "            line_num += 1\n",
        "            continue\n",
        "        elif kind == 'SKIP':\n",
        "            continue\n",
        "        elif kind == 'MISMATCH':\n",
        "            raise RuntimeError(f'{value!r} unexpected on line {line_num}')\n",
        "        yield JavaToken(kind, value, line_num, column)"
      ]
    },
    {
      "cell_type": "markdown",
      "metadata": {
        "id": "u0uRpoxnohon"
      },
      "source": [
        "Java Parser"
      ]
    },
    {
      "cell_type": "code",
      "execution_count": 44,
      "metadata": {
        "colab": {
          "base_uri": "https://localhost:8080/"
        },
        "id": "GNkd_-Qa5N0a",
        "outputId": "f7bae884-7f24-458f-b693-b8cf10924c31"
      },
      "outputs": [
        {
          "data": {
            "text/plain": [
              "[Main -> 'public' 'static' 'void' 'main' 'L_PAR' 'R_PAR' Main_scope,\n",
              " Main_scope -> 'L_CUR' Scope 'R_CUR',\n",
              " Scope -> Scope_prime,\n",
              " Scope -> Statements,\n",
              " Scope_prime -> 'L_CUR' Statements 'R_CUR',\n",
              " Statements -> Statement Statements_prime,\n",
              " Statements_prime -> Statements,\n",
              " Statements_prime -> Scope_prime,\n",
              " Statements_prime -> ,\n",
              " Statement -> 'END',\n",
              " Statement -> Expression 'END',\n",
              " Statement -> Num_Assignment 'END',\n",
              " Statement -> String_Assignment 'END',\n",
              " Expression -> Term Expression_prime,\n",
              " Expression_prime -> Operator Term Expression_prime,\n",
              " Expression_prime -> Comp_Operator Term Expression_prime,\n",
              " Expression_prime -> ,\n",
              " Term -> 'L_PAR' Expression 'R_PAR',\n",
              " Term -> 'NUMBER',\n",
              " Term -> 'ID',\n",
              " Term -> 'TRUE',\n",
              " Term -> 'FALSE',\n",
              " Comp_Operator -> 'AMPERSAND' 'AMPERSAND',\n",
              " Comp_Operator -> 'PIPE' 'PIPE',\n",
              " Comp_Operator -> 'ASSIGN' 'ASSIGN',\n",
              " Comp_Operator -> 'NOT' 'ASSIGN',\n",
              " Comp_Operator -> 'MORE',\n",
              " Comp_Operator -> 'MORE' 'ASSIGN',\n",
              " Comp_Operator -> 'LESS',\n",
              " Comp_Operator -> 'LESS' 'ASSIGN',\n",
              " Operator -> 'POW',\n",
              " Operator -> 'PLUS',\n",
              " Operator -> 'MINUS',\n",
              " Operator -> 'DIV',\n",
              " Operator -> 'MULT',\n",
              " Num_Assignment -> 'NUMTYPE' 'ID' 'ASSIGN' Expression,\n",
              " String_Assignment -> 'String' 'ID' 'ASSIGN' String_like,\n",
              " String_like -> 'QUOT' Valid_Chars 'QUOT',\n",
              " Valid_Chars -> Char Valid_Chars_prime,\n",
              " Valid_Chars_prime -> Valid_Chars,\n",
              " Valid_Chars_prime -> ,\n",
              " Char -> 'ID']"
            ]
          },
          "execution_count": 44,
          "metadata": {},
          "output_type": "execute_result"
        }
      ],
      "source": [
        "grammar = CFG.fromstring(\"\"\"\n",
        "Main -> 'public' 'static' 'void' 'main' 'L_PAR' 'R_PAR' Main_scope\n",
        "Main_scope -> 'L_CUR' Scope 'R_CUR'\n",
        "\n",
        "Scope -> Scope_prime\n",
        "Scope -> Statements\n",
        "Scope_prime -> 'L_CUR' Statements 'R_CUR'\n",
        "\n",
        "Statements -> Statement Statements_prime\n",
        "Statements_prime -> Statements\n",
        "Statements_prime -> Scope_prime\n",
        "Statements_prime ->\n",
        "\n",
        "Statement -> 'END'\n",
        "Statement -> Expression 'END'\n",
        "Statement -> Num_Assignment 'END'\n",
        "Statement -> String_Assignment 'END'\n",
        "\n",
        "Expression -> Term Expression_prime\n",
        "\n",
        "Expression_prime -> Operator Term Expression_prime\n",
        "\n",
        "Expression_prime -> Comp_Operator Term Expression_prime\n",
        "Expression_prime -> \n",
        "\n",
        "Term -> 'L_PAR' Expression 'R_PAR'\n",
        "Term -> 'NUMBER'\n",
        "Term -> 'ID'\n",
        "Term -> 'TRUE'\n",
        "Term -> 'FALSE'\n",
        "\n",
        "Comp_Operator -> 'AMPERSAND' 'AMPERSAND'\n",
        "Comp_Operator -> 'PIPE' 'PIPE'\n",
        "Comp_Operator -> 'ASSIGN' 'ASSIGN'\n",
        "Comp_Operator -> 'NOT' 'ASSIGN'\n",
        "Comp_Operator -> 'MORE'\n",
        "Comp_Operator -> 'MORE' 'ASSIGN'\n",
        "Comp_Operator -> 'LESS'\n",
        "Comp_Operator -> 'LESS' 'ASSIGN'\n",
        "\n",
        "Operator -> 'POW'\n",
        "Operator -> 'PLUS'\n",
        "Operator -> 'MINUS'\n",
        "Operator -> 'DIV'\n",
        "Operator -> 'MULT'\n",
        "\n",
        "\n",
        "Num_Assignment -> 'NUMTYPE' 'ID' 'ASSIGN' Expression\n",
        "String_Assignment -> 'String' 'ID' 'ASSIGN' String_like\n",
        "String_like -> 'QUOT' Valid_Chars 'QUOT'\n",
        "\n",
        "Valid_Chars -> Char Valid_Chars_prime\n",
        "Valid_Chars_prime -> Valid_Chars\n",
        "Valid_Chars_prime -> \n",
        "\n",
        "Char -> 'ID'\n",
        "\"\"\")\n",
        "\n",
        "# Create a parser with the defined grammar\n",
        "parser = nltk.ChartParser(grammar)\n",
        "grammar.productions()"
      ]
    },
    {
      "cell_type": "code",
      "execution_count": 45,
      "metadata": {
        "colab": {
          "base_uri": "https://localhost:8080/"
        },
        "id": "oAcM_Hpn8tQ4",
        "outputId": "e5b94198-70e6-431b-8ab1-8f984dbd30a5"
      },
      "outputs": [
        {
          "name": "stdout",
          "output_type": "stream",
          "text": [
            "public public\n",
            "static static\n",
            "void void\n",
            "main main\n",
            "L_PAR (\n",
            "R_PAR )\n",
            "L_CUR {\n",
            "END ;\n",
            "L_CUR {\n",
            "END ;\n",
            "L_CUR {\n",
            "String String\n",
            "ID id\n",
            "ASSIGN =\n",
            "QUOT \"\n",
            "ID thing\n",
            "QUOT \"\n",
            "END ;\n",
            "R_CUR }\n",
            "R_CUR }\n",
            "R_CUR }\n"
          ]
        }
      ],
      "source": [
        "test_sentences = [\n",
        "    '''public static void main ( ) { ; { ; { String id = \"thing\" ; } } } ''',\n",
        "'''public static void main ( ) { String id = \" \" ; } ''',\n",
        "'''public static void main ( ) { int id = number * number ; }''',\n",
        "'''public static void main ( ) { ; } ''',\n",
        "'''\n",
        "public static void main ( ) { float id = number ; { String id = \" char \" ; int id = number + id ; number != id ; ( id >= id ) ; } }\n",
        "'''\n",
        "]\n",
        "tokens = tokenize(test_sentences[0])\n",
        "t_list = []\n",
        "for t in tokens:\n",
        "    print(t.type, t.value)\n",
        "    t_list.append(t.type)"
      ]
    },
    {
      "cell_type": "code",
      "execution_count": 46,
      "metadata": {
        "colab": {
          "base_uri": "https://localhost:8080/"
        },
        "id": "N47btP0A5Wv1",
        "outputId": "1fb97cb6-7890-4e90-c226-c457a65e8b03"
      },
      "outputs": [
        {
          "name": "stdout",
          "output_type": "stream",
          "text": [
            "                   Main                                                                                                                                                                                                       \n",
            "   _________________|_______________________________                                                                                                                                                                           \n",
            "  |      |     |    |     |     |               Main_scope                                                                                                                                                                    \n",
            "  |      |     |    |     |     |      _____________|______________________                                                                                                                                                    \n",
            "  |      |     |    |     |     |     |     |                            Scope                                                                                                                                                \n",
            "  |      |     |    |     |     |     |     |                              |                                                                                                                                                   \n",
            "  |      |     |    |     |     |     |     |                          Statements                                                                                                                                             \n",
            "  |      |     |    |     |     |     |     |        ______________________|_____________________________                                                                                                                      \n",
            "  |      |     |    |     |     |     |     |       |                                             Statements_prime                                                                                                            \n",
            "  |      |     |    |     |     |     |     |       |                                                    |                                                                                                                     \n",
            "  |      |     |    |     |     |     |     |       |                                               Scope_prime                                                                                                               \n",
            "  |      |     |    |     |     |     |     |       |         ___________________________________________|_____________                                                                                                        \n",
            "  |      |     |    |     |     |     |     |       |        |     |                                               Statements                                                                                                 \n",
            "  |      |     |    |     |     |     |     |       |        |     |        ___________________________________________|_____________                                                                                          \n",
            "  |      |     |    |     |     |     |     |       |        |     |       |                                                  Statements_prime                                                                                \n",
            "  |      |     |    |     |     |     |     |       |        |     |       |                                                         |                                                                                         \n",
            "  |      |     |    |     |     |     |     |       |        |     |       |                                                    Scope_prime                                                                                   \n",
            "  |      |     |    |     |     |     |     |       |        |     |       |         ________________________________________________|________________                                                                         \n",
            "  |      |     |    |     |     |     |     |       |        |     |       |        |     |                                                       Statements                                                                  \n",
            "  |      |     |    |     |     |     |     |       |        |     |       |        |     |                                           ________________|______________________________________________________________          \n",
            "  |      |     |    |     |     |     |     |       |        |     |       |        |     |                                      Statement                                                                           |        \n",
            "  |      |     |    |     |     |     |     |       |        |     |       |        |     |     _____________________________________|________________                                                               |         \n",
            "  |      |     |    |     |     |     |     |       |        |     |       |        |     |    |                                               String_Assignmen                                                      |        \n",
            "  |      |     |    |     |     |     |     |       |        |     |       |        |     |    |                                                      t                                                              |        \n",
            "  |      |     |    |     |     |     |     |       |        |     |       |        |     |    |          ____________________________________________|______________                                                |         \n",
            "  |      |     |    |     |     |     |     |       |        |     |       |        |     |    |         |             |             |                          String_like                                          |        \n",
            "  |      |     |    |     |     |     |     |       |        |     |       |        |     |    |         |             |             |                 ______________|________________                               |         \n",
            "  |      |     |    |     |     |     |     |       |        |     |       |        |     |    |         |             |             |                |              |           Valid_Chars                         |        \n",
            "  |      |     |    |     |     |     |     |       |        |     |       |        |     |    |         |             |             |                |              |        ________|_____________                 |         \n",
            "  |      |     |    |     |     |     |     |   Statement    |     |   Statement    |     |    |         |             |             |                |              |      Char             Valid_Chars_prim Statements_prime\n",
            "  |      |     |    |     |     |     |     |       |        |     |       |        |     |    |         |             |             |                |              |       |                      e                |        \n",
            "  |      |     |    |     |     |     |     |       |        |     |       |        |     |    |         |             |             |                |              |       |                      |                |         \n",
            "public static void main L_PAR R_PAR L_CUR R_CUR    END     L_CUR R_CUR    END     L_CUR R_CUR END      String          ID          ASSIGN            QUOT           QUOT     ID                    ...              ...       \n",
            "\n"
          ]
        }
      ],
      "source": [
        "for tree in parser.parse(t_list):\n",
        "    tree.pretty_print()"
      ]
    }
  ],
  "metadata": {
    "colab": {
      "provenance": []
    },
    "kernelspec": {
      "display_name": "lang-parse",
      "language": "python",
      "name": "lang-parse"
    },
    "language_info": {
      "codemirror_mode": {
        "name": "ipython",
        "version": 3
      },
      "file_extension": ".py",
      "mimetype": "text/x-python",
      "name": "python",
      "nbconvert_exporter": "python",
      "pygments_lexer": "ipython3",
      "version": "3.12.2"
    }
  },
  "nbformat": 4,
  "nbformat_minor": 0
}
